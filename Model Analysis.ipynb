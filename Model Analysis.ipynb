{
 "cells": [
  {
   "cell_type": "markdown",
   "metadata": {},
   "source": [
    "# Model Analysis\n",
    "\n",
    "Using this notebook to plot graphs and check out the performances of the different models we have tried"
   ]
  },
  {
   "cell_type": "code",
   "execution_count": 1,
   "metadata": {},
   "outputs": [],
   "source": [
    "import csv\n",
    "import pandas as pd\n",
    "import numpy as np\n",
    "from matplotlib import pyplot as plt\n",
    "from shared_funcs import read_csv\n",
    "from sklearn.metrics import roc_curve, auc"
   ]
  },
  {
   "cell_type": "markdown",
   "metadata": {},
   "source": [
    "## Latest Model"
   ]
  },
  {
   "cell_type": "markdown",
   "metadata": {},
   "source": [
    "Plot accuracy and loss over epochs"
   ]
  },
  {
   "cell_type": "code",
   "execution_count": 28,
   "metadata": {
    "tags": []
   },
   "outputs": [],
   "source": [
    "path_results = '../SBWR_BTNR_CCNR/Results/Resnet50_FYP/AllLayer_propTrain=0.7/run_5/'\n",
    "\n",
    "hp = pd.read_csv(path_results+'hyperparameter_records.csv', sep = \",\")\n",
    "acc_loss = pd.read_csv(path_results+'train_val_results.csv', sep = \",\")\n",
    "\n",
    "train_acc = acc_loss.TrainAcc\n",
    "train_loss = acc_loss.TrainLoss\n",
    "val_acc = acc_loss.ValAcc\n",
    "val_loss = acc_loss.ValLoss"
   ]
  },
  {
   "cell_type": "code",
   "execution_count": 30,
   "metadata": {},
   "outputs": [
    {
     "data": {
      "image/png": "[encoded data removed]",
      "text/plain": [
       "<Figure size 432x288 with 1 Axes>"
      ]
     },
     "metadata": {
      "needs_background": "light"
     },
     "output_type": "display_data"
    },
    {
     "data": {
      "image/png": "[encoded data removed]",
      "text/plain": [
       "<Figure size 432x288 with 1 Axes>"
      ]
     },
     "metadata": {
      "needs_background": "light"
     },
     "output_type": "display_data"
    }
   ],
   "source": [
    "def simple_plot(list1, list2, title, y_lab, x_lab):\n",
    "    plt.plot(list1)\n",
    "    plt.plot(list2)\n",
    "    plt.title(title)\n",
    "    plt.ylabel(y_lab)\n",
    "    plt.xlabel(x_lab)\n",
    "    plt.legend(['train', 'val'], loc='upper left')\n",
    "    plt.ylim(0, 1)\n",
    "    plt.show()\n",
    "\n",
    "archi = hp.at[12, 'Values']\n",
    "simple_plot(train_acc, val_acc, 'Model Accuracy: '+archi, 'accuracy', 'epoch')\n",
    "simple_plot(train_loss, val_loss, 'Model Loss: '+archi, 'loss', 'epoch')"
   ]
  },
  {
   "cell_type": "markdown",
   "metadata": {},
   "source": [
    "Plot ROC curve on test results"
   ]
  },
  {
   "cell_type": "code",
   "execution_count": 41,
   "metadata": {},
   "outputs": [],
   "source": [
    "probs = pd.read_csv(path_results + 'test_probabilities.csv', sep = \",\")\n",
    "y_test_file = './y_test.csv'\n",
    "\n",
    "y_test = [int(i) in {0,1} for i in read_csv(y_test_file)] #Set empty and human images as the positive\n",
    "probs[\"prob_human_empty\"] = probs[\"prob_empty\"] + probs[\"prob_human\"]\n",
    "fpr, tpr, thresholds = roc_curve(y_test, probs.prob_human_empty)\n",
    "\n",
    "roc_auc = auc(fpr, tpr)"
   ]
  },
  {
   "cell_type": "code",
   "execution_count": 43,
   "metadata": {},
   "outputs": [
    {
     "data": {
      "text/html": [
       "<div>\n",
       "<style scoped>\n",
       "    .dataframe tbody tr th:only-of-type {\n",
       "        vertical-align: middle;\n",
       "    }\n",
       "\n",
       "    .dataframe tbody tr th {\n",
       "        vertical-align: top;\n",
       "    }\n",
       "\n",
       "    .dataframe thead th {\n",
       "        text-align: right;\n",
       "    }\n",
       "</style>\n",
       "<table border=\"1\" class=\"dataframe\">\n",
       "  <thead>\n",
       "    <tr style=\"text-align: right;\">\n",
       "      <th></th>\n",
       "      <th>file_name</th>\n",
       "      <th>prob_empty</th>\n",
       "      <th>prob_human</th>\n",
       "      <th>prob_animal</th>\n",
       "    </tr>\n",
       "  </thead>\n",
       "  <tbody>\n",
       "    <tr>\n",
       "      <th>0</th>\n",
       "      <td>a8d70557-1c71-4c5d-adae-635ea9124186.jpg</td>\n",
       "      <td>0.727773</td>\n",
       "      <td>0.258761</td>\n",
       "      <td>0.013466</td>\n",
       "    </tr>\n",
       "    <tr>\n",
       "      <th>1</th>\n",
       "      <td>ca450dfe-5e01-42d1-aed9-feb970933073.jpg</td>\n",
       "      <td>0.060327</td>\n",
       "      <td>0.173208</td>\n",
       "      <td>0.766465</td>\n",
       "    </tr>\n",
       "    <tr>\n",
       "      <th>2</th>\n",
       "      <td>cdb0d808-2223-4d49-ae01-665409170435.jpg</td>\n",
       "      <td>0.745740</td>\n",
       "      <td>0.240070</td>\n",
       "      <td>0.014190</td>\n",
       "    </tr>\n",
       "    <tr>\n",
       "      <th>3</th>\n",
       "      <td>7c332be2-9561-49b1-8827-0a895881b9ca.jpg</td>\n",
       "      <td>0.991508</td>\n",
       "      <td>0.000129</td>\n",
       "      <td>0.008362</td>\n",
       "    </tr>\n",
       "    <tr>\n",
       "      <th>4</th>\n",
       "      <td>6ec13761-ca6a-4937-b49f-d39a0e2f87dc.jpg</td>\n",
       "      <td>0.917373</td>\n",
       "      <td>0.017784</td>\n",
       "      <td>0.064843</td>\n",
       "    </tr>\n",
       "  </tbody>\n",
       "</table>\n",
       "</div>"
      ],
      "text/plain": [
       "                                  file_name  prob_empty  prob_human  \\\n",
       "0  a8d70557-1c71-4c5d-adae-635ea9124186.jpg    0.727773    0.258761   \n",
       "1  ca450dfe-5e01-42d1-aed9-feb970933073.jpg    0.060327    0.173208   \n",
       "2  cdb0d808-2223-4d49-ae01-665409170435.jpg    0.745740    0.240070   \n",
       "3  7c332be2-9561-49b1-8827-0a895881b9ca.jpg    0.991508    0.000129   \n",
       "4  6ec13761-ca6a-4937-b49f-d39a0e2f87dc.jpg    0.917373    0.017784   \n",
       "\n",
       "   prob_animal  \n",
       "0     0.013466  \n",
       "1     0.766465  \n",
       "2     0.014190  \n",
       "3     0.008362  \n",
       "4     0.064843  "
      ]
     },
     "execution_count": 43,
     "metadata": {},
     "output_type": "execute_result"
    }
   ],
   "source": []
  },
  {
   "cell_type": "code",
   "execution_count": 42,
   "metadata": {},
   "outputs": [
    {
     "data": {
      "image/png": "[encoded data removed]",
      "text/plain": [
       "<Figure size 432x288 with 1 Axes>"
      ]
     },
     "metadata": {
      "needs_background": "light"
     },
     "output_type": "display_data"
    }
   ],
   "source": [
    "plt.figure()\n",
    "plt.plot(fpr, tpr, label='ROC curve (area = %0.3f)' % roc_auc)\n",
    "plt.xlim([0.0, 1.0])\n",
    "plt.ylim([0.0, 1.05])\n",
    "plt.xlabel('False Positive Rate')\n",
    "plt.ylabel('True Positive Rate')\n",
    "plt.title('Receiver operating characteristic example: '+archi)\n",
    "plt.legend(loc=\"lower right\")\n",
    "plt.show()"
   ]
  },
  {
   "cell_type": "code",
   "execution_count": null,
   "metadata": {},
   "outputs": [],
   "source": []
  }
 ],
 "metadata": {
  "kernelspec": {
   "display_name": "Python 3",
   "language": "python",
   "name": "python3"
  },
  "language_info": {
   "codemirror_mode": {
    "name": "ipython",
    "version": 3
   },
   "file_extension": ".py",
   "mimetype": "text/x-python",
   "name": "python",
   "nbconvert_exporter": "python",
   "pygments_lexer": "ipython3",
   "version": "3.7.7"
  }
 },
 "nbformat": 4,
 "nbformat_minor": 2
}
